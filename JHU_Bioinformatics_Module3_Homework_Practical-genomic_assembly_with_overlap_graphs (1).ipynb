{
 "cells": [
  {
   "cell_type": "code",
   "execution_count": null,
   "id": "b9bd9dc7-774e-4c36-8064-76a6d5cb549d",
   "metadata": {},
   "outputs": [],
   "source": [
    "Module 3: Edit Distance, Alignment & Sequence Assembly\n",
    "Programming Homework – Genomic Data Science Specialization (Johns Hopkins)\n",
    "Course: Algorithms for DNA Sequencing\n",
    "Specialization: Bioinformatics – Genomic Data Science\n",
    "Author: Julian Borges\n",
    "Module: 3 – Edit Distance, Alignment, and Overlap Graphs\n",
    "\n",
    "This notebook documents the implementation of algorithms and exercises related to:\n",
    "\n",
    "Edit Distance (Dynamic Programming)\n",
    "Global and Local Alignment\n",
    "Read Mapping and Approximate Matching\n",
    "Sequence Assembly using Overlap Graphs\n",
    "Each section includes:\n",
    "\n",
    "Practical exercises\n",
    "Annotated Python code\n",
    "Validated outputs\n",
    "Reflection prompts to reinforce understanding\n",
    "All tasks are based on real-world genome sequencing data scenarios."
   ]
  },
  {
   "cell_type": "markdown",
   "id": "932c9b4b",
   "metadata": {},
   "source": [
    "# Genome Assembly Using Overlap Graphs\n",
    "\n",
    "This section introduces the concept of overlap graphs and how they are used in genome assembly.\n",
    "\n",
    "Overlaps are essential for assembling genomes from short reads. They act as the 'glue' that helps us piece together the original sequence."
   ]
  },
  {
   "cell_type": "markdown",
   "id": "f7875f3f",
   "metadata": {},
   "source": [
    "## Directed Graphs\n",
    "\n",
    "We use a **directed graph** to represent overlaps. In this graph:\n",
    "- Each **node** is a sequencing read.\n",
    "- A **directed edge** from node A to node B indicates that a **suffix** of A overlaps with a **prefix** of B.\n",
    "\n",
    "To be meaningful, we set a threshold on overlap length (e.g., at least 4 bases and exact match)."
   ]
  },
  {
   "cell_type": "markdown",
   "id": "ad26f781",
   "metadata": {},
   "source": [
    "## Constructing the Overlap Graph\n",
    "\n",
    "We can construct an overlap graph from all k-mers in a sequence.\n",
    "For example, given a synthetic genome sequence, extract all 6-mers and link those with overlapping suffixes/prefixes.\n",
    "\n",
    "This graph can help us trace a path that reconstructs the genome."
   ]
  },
  {
   "cell_type": "code",
   "execution_count": null,
   "id": "e3de5e4a",
   "metadata": {},
   "outputs": [],
   "source": [
    "# Simple code to find suffix-prefix overlaps of length >= threshold\n",
    "def overlap(a, b, min_length=4):\n",
    "    start = 0  # start all the way at the left\n",
    "    while True:\n",
    "        start = a.find(b[:min_length], start)\n",
    "        if start == -1:\n",
    "            return 0\n",
    "        if b.startswith(a[start:]):\n",
    "            return len(a) - start\n",
    "        start += 1\n",
    "\n",
    "reads = ['GTACGT', 'TACGTA', 'ACGTAC', 'CGTACG', 'GTACGA']\n",
    "edges = []\n",
    "\n",
    "for a in reads:\n",
    "    for b in reads:\n",
    "        if a != b:\n",
    "            olen = overlap(a, b, min_length=4)\n",
    "            if olen > 0:\n",
    "                edges.append((a, b, olen))\n",
    "\n",
    "edges"
   ]
  },
  {
   "cell_type": "markdown",
   "id": "c2103ee7",
   "metadata": {},
   "source": [
    "## Path through the Graph and Genome Reconstruction\n",
    "\n",
    "Walking through this graph (following the maximum overlap edges) reconstructs the genome by joining reads using the overlap.\n",
    "This is how we go from short reads to a longer contiguous sequence."
   ]
  },
  {
   "cell_type": "code",
   "execution_count": null,
   "id": "72f21cee",
   "metadata": {},
   "outputs": [],
   "source": [
    "# Reconstruct genome from graph by greedy path extension\n",
    "from collections import defaultdict\n",
    "\n",
    "# Build graph\n",
    "graph = defaultdict(list)\n",
    "for a, b, olen in edges:\n",
    "    graph[a].append((b, olen))\n",
    "\n",
    "# Choose starting node (one not present as a destination)\n",
    "destinations = set(b for _, b, _ in edges)\n",
    "start_node = [node for node in reads if node not in destinations][0]\n",
    "\n",
    "# Reconstruct sequence\n",
    "sequence = start_node\n",
    "current = start_node\n",
    "\n",
    "while graph[current]:\n",
    "    next_node, olen = max(graph[current], key=lambda x: x[1])\n",
    "    sequence += next_node[olen:]\n",
    "    current = next_node\n",
    "\n",
    "sequence"
   ]
  },
  {
   "cell_type": "markdown",
   "id": "e11816ed",
   "metadata": {},
   "source": [
    "\n",
    "## Practical: Implementing an Overlap Function\n",
    "\n",
    "In this practical section, we'll implement a Python function that computes the length of the longest suffix of one string (`a`) that matches a prefix of another string (`b`), where the overlap is at least a specified minimum length. This will be a core utility in genome assembly using overlap graphs.\n"
   ]
  },
  {
   "cell_type": "code",
   "execution_count": null,
   "id": "523d941d",
   "metadata": {},
   "outputs": [],
   "source": [
    "\n",
    "def overlap(a, b, min_length=3):\n",
    "    \"\"\"Return length of the longest suffix of 'a' matching\n",
    "    a prefix of 'b' that is at least 'min_length' characters long.\n",
    "    If no such overlap exists, return 0.\"\"\"\n",
    "    start = 0  # start all the way at the left\n",
    "    while True:\n",
    "        start = a.find(b[:min_length], start)  # look for b's prefix in a\n",
    "        if start == -1:\n",
    "            return 0  # no more occurrences to the right\n",
    "        # found occurrence; check for full suffix/prefix match\n",
    "        if b.startswith(a[start:]):\n",
    "            return len(a) - start\n",
    "        start += 1\n"
   ]
  },
  {
   "cell_type": "code",
   "execution_count": null,
   "id": "4e986058",
   "metadata": {},
   "outputs": [],
   "source": [
    "\n",
    "# Test the overlap function\n",
    "print(overlap(\"CGTACG\", \"CGTACGT\", 3))  # Expected: 6\n",
    "print(overlap(\"TTACG\", \"ACGTT\", 3))     # Expected: 3\n",
    "print(overlap(\"GATTACA\", \"TACAG\", 4))   # Expected: 4\n",
    "print(overlap(\"GATTACA\", \"AGGT\", 3))    # Expected: 0\n"
   ]
  },
  {
   "cell_type": "code",
   "execution_count": null,
   "id": "b4320548-b3b5-4167-95b4-ef8ddb21f2f8",
   "metadata": {},
   "outputs": [],
   "source": [
    "# Global Alignment using Scoring Matrix\n",
    "This section implements global alignment using a scoring matrix. Unlike edit distance, we assign different penalties for mismatches and gaps based on biological context."
   ]
  },
  {
   "cell_type": "code",
   "execution_count": null,
   "id": "43176ca7-4547-4c76-90e4-a7d0449ce9d0",
   "metadata": {},
   "outputs": [],
   "source": [
    "# Define the alphabet and scoring matrix\n",
    "alphabet = ['A', 'C', 'G', 'T']\n",
    "score = [\n",
    "    [0, 4, 2, 4, 8],  # A\n",
    "    [4, 0, 4, 2, 8],  # C\n",
    "    [2, 4, 0, 4, 8],  # G\n",
    "    [4, 2, 4, 0, 8],  # T\n",
    "    [8, 8, 8, 8, 8]   # gap penalties (last row and col)\n",
    "]\n"
   ]
  },
  {
   "cell_type": "code",
   "execution_count": null,
   "id": "da5442d0-85ce-440c-b022-c0bb402f7c9d",
   "metadata": {},
   "outputs": [],
   "source": [
    "def globalAlignment(x, y):\n",
    "    D = []\n",
    "    for i in range(len(x) + 1):\n",
    "        D.append([0] * (len(y) + 1))\n",
    "\n",
    "    # Initialize first column\n",
    "    for i in range(1, len(x) + 1):\n",
    "        D[i][0] = D[i - 1][0] + score[alphabet.index(x[i - 1])][4]\n",
    "\n",
    "    # Initialize first row\n",
    "    for j in range(1, len(y) + 1):\n",
    "        D[0][j] = D[0][j - 1] + score[4][alphabet.index(y[j - 1])]\n",
    "\n",
    "    # Fill the matrix\n",
    "    for i in range(1, len(x) + 1):\n",
    "        for j in range(1, len(y) + 1):\n",
    "            distHor = D[i][j - 1] + score[4][alphabet.index(y[j - 1])]\n",
    "            distVer = D[i - 1][j] + score[alphabet.index(x[i - 1])][4]\n",
    "            if x[i - 1] == y[j - 1]:\n",
    "                distDiag = D[i - 1][j - 1]\n",
    "            else:\n",
    "                distDiag = D[i - 1][j - 1] + score[alphabet.index(x[i - 1])][alphabet.index(y[j - 1])]\n",
    "            D[i][j] = min(distHor, distVer, distDiag)\n",
    "\n",
    "    return D[-1][-1]\n"
   ]
  },
  {
   "cell_type": "code",
   "execution_count": null,
   "id": "d90b9266-ace4-4e16-970d-1f8deb5f1208",
   "metadata": {},
   "outputs": [],
   "source": [
    "# Test case for global alignment\n",
    "x = \"GATTACA\"\n",
    "y = \"GCATGCU\"\n",
    "print(\"Global alignment penalty:\", globalAlignment(x, y))\n"
   ]
  },
  {
   "cell_type": "code",
   "execution_count": null,
   "id": "b71adb73-cb2f-4d98-a426-41b0ef621a6d",
   "metadata": {},
   "outputs": [],
   "source": [
    "# Global Alignment using Scoring Matrix\n",
    "This section implements global alignment using a scoring matrix. Unlike edit distance, we assign different penalties for mismatches and gaps based on biological context."
   ]
  },
  {
   "cell_type": "code",
   "execution_count": null,
   "id": "23345b4a-ff26-4566-940b-35fca7a919fe",
   "metadata": {},
   "outputs": [],
   "source": [
    "# Define the alphabet and scoring matrix\n",
    "alphabet = ['A', 'C', 'G', 'T']\n",
    "score = [\n",
    "    [0, 4, 2, 4, 8],  # A\n",
    "    [4, 0, 4, 2, 8],  # C\n",
    "    [2, 4, 0, 4, 8],  # G\n",
    "    [4, 2, 4, 0, 8],  # T\n",
    "    [8, 8, 8, 8, 8]   # gap penalties (last row and col)\n",
    "]\n"
   ]
  },
  {
   "cell_type": "code",
   "execution_count": null,
   "id": "e3d8e2ff-0119-49a7-9c24-cc5762fe3e11",
   "metadata": {},
   "outputs": [],
   "source": [
    "def globalAlignment(x, y):\n",
    "    D = []\n",
    "    for i in range(len(x) + 1):\n",
    "        D.append([0] * (len(y) + 1))\n",
    "\n",
    "    # Initialize first column\n",
    "    for i in range(1, len(x) + 1):\n",
    "        D[i][0] = D[i - 1][0] + score[alphabet.index(x[i - 1])][4]\n",
    "\n",
    "    # Initialize first row\n",
    "    for j in range(1, len(y) + 1):\n",
    "        D[0][j] = D[0][j - 1] + score[4][alphabet.index(y[j - 1])]\n",
    "\n",
    "    # Fill the matrix\n",
    "    for i in range(1, len(x) + 1):\n",
    "        for j in range(1, len(y) + 1):\n",
    "            distHor = D[i][j - 1] + score[4][alphabet.index(y[j - 1])]\n",
    "            distVer = D[i - 1][j] + score[alphabet.index(x[i - 1])][4]\n",
    "            if x[i - 1] == y[j - 1]:\n",
    "                distDiag = D[i - 1][j - 1]\n",
    "            else:\n",
    "                distDiag = D[i - 1][j - 1] + score[alphabet.index(x[i - 1])][alphabet.index(y[j - 1])]\n",
    "            D[i][j] = min(distHor, distVer, distDiag)\n",
    "\n",
    "    return D[-1][-1]\n"
   ]
  },
  {
   "cell_type": "code",
   "execution_count": null,
   "id": "815a5083-b8cc-48bc-8e44-9e92adb72072",
   "metadata": {},
   "outputs": [],
   "source": [
    "# Test case for global alignment\n",
    "x = \"GATTACA\"\n",
    "y = \"GCATGCU\"\n",
    "print(\"Global alignment penalty:\", globalAlignment(x, y))\n"
   ]
  },
  {
   "cell_type": "code",
   "execution_count": null,
   "id": "52251d22-4a19-4aa5-9cab-414ccec8f236",
   "metadata": {},
   "outputs": [],
   "source": [
    "# Genome Assembly Using Overlap Graphs\n",
    "\n",
    "This section introduces the concept of overlap graphs and how they are used in genome assembly.\n",
    "\n",
    "Overlaps are essential for assembling genomes from short reads. They act as the 'glue' that helps us piece together the original sequence."
   ]
  },
  {
   "cell_type": "code",
   "execution_count": null,
   "id": "a2c645f3-a512-4864-a3de-bc8b92890e69",
   "metadata": {},
   "outputs": [],
   "source": [
    "## Directed Graphs\n",
    "\n",
    "We use a **directed graph** to represent overlaps. In this graph:\n",
    "- Each **node** is a sequencing read.\n",
    "- A **directed edge** from node A to node B indicates that a **suffix** of A overlaps with a **prefix** of B.\n",
    "\n",
    "To be meaningful, we set a threshold on overlap length (e.g., at least 4 bases and exact match)."
   ]
  },
  {
   "cell_type": "code",
   "execution_count": null,
   "id": "1cfb8f4c-3916-4b3e-b78f-53f03f323d3e",
   "metadata": {},
   "outputs": [],
   "source": [
    "## Constructing the Overlap Graph\n",
    "\n",
    "We can construct an overlap graph from all k-mers in a sequence.\n",
    "For example, given a synthetic genome sequence, extract all 6-mers and link those with overlapping suffixes/prefixes.\n",
    "\n",
    "This graph can help us trace a path that reconstructs the genome."
   ]
  },
  {
   "cell_type": "code",
   "execution_count": null,
   "id": "fe563deb-6d4a-4b90-a59f-a6f5ecdd4e8d",
   "metadata": {},
   "outputs": [],
   "source": [
    "# Simple code to find suffix-prefix overlaps of length >= threshold\n",
    "def overlap(a, b, min_length=4):\n",
    "    start = 0  # start all the way at the left\n",
    "    while True:\n",
    "        start = a.find(b[:min_length], start)\n",
    "        if start == -1:\n",
    "            return 0\n",
    "        if b.startswith(a[start:]):\n",
    "            return len(a) - start\n",
    "        start += 1\n",
    "\n",
    "reads = ['GTACGT', 'TACGTA', 'ACGTAC', 'CGTACG', 'GTACGA']\n",
    "edges = []\n",
    "\n",
    "for a in reads:\n",
    "    for b in reads:\n",
    "        if a != b:\n",
    "            olen = overlap(a, b, min_length=4)\n",
    "            if olen > 0:\n",
    "                edges.append((a, b, olen))\n",
    "\n",
    "edges"
   ]
  },
  {
   "cell_type": "code",
   "execution_count": null,
   "id": "507060ea-79e0-4be1-b467-8d8a02717221",
   "metadata": {},
   "outputs": [],
   "source": [
    "# Simple code to find suffix-prefix overlaps of length >= threshold\n",
    "def overlap(a, b, min_length=4):\n",
    "    start = 0  # start all the way at the left\n",
    "    while True:\n",
    "        start = a.find(b[:min_length], start)\n",
    "        if start == -1:\n",
    "            return 0\n",
    "        if b.startswith(a[start:]):\n",
    "            return len(a) - start\n",
    "        start += 1\n",
    "\n",
    "reads = ['GTACGT', 'TACGTA', 'ACGTAC', 'CGTACG', 'GTACGA']\n",
    "edges = []\n",
    "\n",
    "for a in reads:\n",
    "    for b in reads:\n",
    "        if a != b:\n",
    "            olen = overlap(a, b, min_length=4)\n",
    "            if olen > 0:\n",
    "                edges.append((a, b, olen))\n",
    "\n",
    "edges"
   ]
  },
  {
   "cell_type": "code",
   "execution_count": null,
   "id": "c59892e0-7990-4a74-a048-51d96bf57843",
   "metadata": {},
   "outputs": [],
   "source": [
    "## Path through the Graph and Genome Reconstruction\n",
    "\n",
    "Walking through this graph (following the maximum overlap edges) reconstructs the genome by joining reads using the overlap.\n",
    "This is how we go from short reads to a longer contiguous sequence."
   ]
  },
  {
   "cell_type": "code",
   "execution_count": null,
   "id": "24cfc972-1361-47f9-863d-372d54c8d87d",
   "metadata": {},
   "outputs": [],
   "source": [
    "# Reconstruct genome from graph by greedy path extension\n",
    "from collections import defaultdict\n",
    "\n",
    "# Build graph\n",
    "graph = defaultdict(list)\n",
    "for a, b, olen in edges:\n",
    "    graph[a].append((b, olen))\n",
    "\n",
    "# Choose starting node (one not present as a destination)\n",
    "destinations = set(b for _, b, _ in edges)\n",
    "start_node = [node for node in reads if node not in destinations][0]\n",
    "\n",
    "# Reconstruct sequence\n",
    "sequence = start_node\n",
    "current = start_node\n",
    "\n",
    "while graph[current]:\n",
    "    next_node, olen = max(graph[current], key=lambda x: x[1])\n",
    "    sequence += next_node[olen:]\n",
    "    current = next_node\n",
    "\n",
    "sequence"
   ]
  },
  {
   "cell_type": "code",
   "execution_count": null,
   "id": "93b3ea9b-aa4c-444e-bb97-8764465d6ef2",
   "metadata": {},
   "outputs": [],
   "source": [
    "\n",
    "## Practical: Implementing an Overlap Function\n",
    "\n",
    "In this practical section, we'll implement a Python function that computes the length of the longest suffix of one string (`a`) that matches a prefix of another string (`b`), where the overlap is at least a specified minimum length. This will be a core utility in genome assembly using overlap graphs.\n"
   ]
  },
  {
   "cell_type": "code",
   "execution_count": null,
   "id": "04acb2c0-a912-496a-b70d-f3506c5bc1dc",
   "metadata": {},
   "outputs": [],
   "source": [
    "\n",
    "def overlap(a, b, min_length=3):\n",
    "    \"\"\"Return length of the longest suffix of 'a' matching\n",
    "    a prefix of 'b' that is at least 'min_length' characters long.\n",
    "    If no such overlap exists, return 0.\"\"\"\n",
    "    start = 0  # start all the way at the left\n",
    "    while True:\n",
    "        start = a.find(b[:min_length], start)  # look for b's prefix in a\n",
    "        if start == -1:\n",
    "            return 0  # no more occurrences to the right\n",
    "        # found occurrence; check for full suffix/prefix match\n",
    "        if b.startswith(a[start:]):\n",
    "            return len(a) - start\n",
    "        start += 1\n"
   ]
  },
  {
   "cell_type": "code",
   "execution_count": null,
   "id": "bc395765-c760-4472-87cc-ae901b7ee177",
   "metadata": {},
   "outputs": [],
   "source": [
    "\n",
    "# Test the overlap function\n",
    "print(overlap(\"CGTACG\", \"CGTACGT\", 3))  # Expected: 6\n",
    "print(overlap(\"TTACG\", \"ACGTT\", 3))     # Expected: 3\n",
    "print(overlap(\"GATTACA\", \"TACAG\", 4))   # Expected: 4\n",
    "print(overlap(\"GATTACA\", \"AGGT\", 3))    # Expected: 0\n"
   ]
  },
  {
   "cell_type": "code",
   "execution_count": null,
   "id": "b45694d4-e79e-432c-9e69-0ff398c915d6",
   "metadata": {},
   "outputs": [],
   "source": [
    "# Define the alphabet and scoring matrix\n",
    "alphabet = ['A', 'C', 'G', 'T']\n",
    "score = [\n",
    "    [0, 4, 2, 4, 8],  # A\n",
    "    [4, 0, 4, 2, 8],  # C\n",
    "    [2, 4, 0, 4, 8],  # G\n",
    "    [4, 2, 4, 0, 8],  # T\n",
    "    [8, 8, 8, 8, 8]   # gap penalties (last row and col)\n",
    "]\n"
   ]
  },
  {
   "cell_type": "code",
   "execution_count": null,
   "id": "f8682437-fe61-4d8e-9dad-5b8b0b86f70a",
   "metadata": {},
   "outputs": [],
   "source": [
    "def globalAlignment(x, y):\n",
    "    D = []\n",
    "    for i in range(len(x) + 1):\n",
    "        D.append([0] * (len(y) + 1))\n",
    "\n",
    "    # Initialize first column\n",
    "    for i in range(1, len(x) + 1):\n",
    "        D[i][0] = D[i - 1][0] + score[alphabet.index(x[i - 1])][4]\n",
    "\n",
    "    # Initialize first row\n",
    "    for j in range(1, len(y) + 1):\n",
    "        D[0][j] = D[0][j - 1] + score[4][alphabet.index(y[j - 1])]\n",
    "\n",
    "    # Fill the matrix\n",
    "    for i in range(1, len(x) + 1):\n",
    "        for j in range(1, len(y) + 1):\n",
    "            distHor = D[i][j - 1] + score[4][alphabet.index(y[j - 1])]\n",
    "            distVer = D[i - 1][j] + score[alphabet.index(x[i - 1])][4]\n",
    "            if x[i - 1] == y[j - 1]:\n",
    "                distDiag = D[i - 1][j - 1]\n",
    "            else:\n",
    "                distDiag = D[i - 1][j - 1] + score[alphabet.index(x[i - 1])][alphabet.index(y[j - 1])]\n",
    "            D[i][j] = min(distHor, distVer, distDiag)\n",
    "\n",
    "    return D[-1][-1]\n"
   ]
  },
  {
   "cell_type": "code",
   "execution_count": null,
   "id": "4ffbf34d-9988-4457-bfea-8483a9faf244",
   "metadata": {},
   "outputs": [],
   "source": [
    "# Test case for global alignment\n",
    "x = \"GATTACA\"\n",
    "y = \"GCATGCU\"\n",
    "print(\"Global alignment penalty:\", globalAlignment(x, y))\n"
   ]
  },
  {
   "cell_type": "code",
   "execution_count": null,
   "id": "3da18656-034c-43bc-82c2-ae3f86facf18",
   "metadata": {},
   "outputs": [],
   "source": [
    "# Global Alignment using Scoring Matrix\n",
    "This section implements global alignment using a scoring matrix. Unlike edit distance, we assign different penalties for mismatches and gaps based on biological context."
   ]
  },
  {
   "cell_type": "code",
   "execution_count": null,
   "id": "389628fa-31a7-4423-82d0-f31d16c036c1",
   "metadata": {},
   "outputs": [],
   "source": [
    "# Define the alphabet and scoring matrix\n",
    "alphabet = ['A', 'C', 'G', 'T']\n",
    "score = [\n",
    "    [0, 4, 2, 4, 8],  # A\n",
    "    [4, 0, 4, 2, 8],  # C\n",
    "    [2, 4, 0, 4, 8],  # G\n",
    "    [4, 2, 4, 0, 8],  # T\n",
    "    [8, 8, 8, 8, 8]   # gap penalties (last row and col)\n",
    "]\n"
   ]
  },
  {
   "cell_type": "code",
   "execution_count": null,
   "id": "436bc085-84ab-41df-aa3a-db8e967e2f7e",
   "metadata": {},
   "outputs": [],
   "source": [
    "def globalAlignment(x, y):\n",
    "    D = []\n",
    "    for i in range(len(x) + 1):\n",
    "        D.append([0] * (len(y) + 1))\n",
    "\n",
    "    # Initialize first column\n",
    "    for i in range(1, len(x) + 1):\n",
    "        D[i][0] = D[i - 1][0] + score[alphabet.index(x[i - 1])][4]\n",
    "\n",
    "    # Initialize first row\n",
    "    for j in range(1, len(y) + 1):\n",
    "        D[0][j] = D[0][j - 1] + score[4][alphabet.index(y[j - 1])]\n",
    "\n",
    "    # Fill the matrix\n",
    "    for i in range(1, len(x) + 1):\n",
    "        for j in range(1, len(y) + 1):\n",
    "            distHor = D[i][j - 1] + score[4][alphabet.index(y[j - 1])]\n",
    "            distVer = D[i - 1][j] + score[alphabet.index(x[i - 1])][4]\n",
    "            if x[i - 1] == y[j - 1]:\n",
    "                distDiag = D[i - 1][j - 1]\n",
    "            else:\n",
    "                distDiag = D[i - 1][j - 1] + score[alphabet.index(x[i - 1])][alphabet.index(y[j - 1])]\n",
    "            D[i][j] = min(distHor, distVer, distDiag)\n",
    "\n",
    "    return D[-1][-1]\n"
   ]
  },
  {
   "cell_type": "code",
   "execution_count": null,
   "id": "294bf1ed-47aa-48d6-a283-2fc25e4fdcaa",
   "metadata": {},
   "outputs": [],
   "source": [
    "# Test case for global alignment\n",
    "x = \"GATTACA\"\n",
    "y = \"GCATGCU\"\n",
    "print(\"Global alignment penalty:\", globalAlignment(x, y))\n"
   ]
  },
  {
   "cell_type": "code",
   "execution_count": null,
   "id": "0579d270-0cf9-4075-8d4d-3e9c29d0ab9d",
   "metadata": {},
   "outputs": [],
   "source": [
    "# Genome Assembly Using Overlap Graphs\n",
    "\n",
    "This section introduces the concept of overlap graphs and how they are used in genome assembly.\n",
    "\n",
    "Overlaps are essential for assembling genomes from short reads. They act as the 'glue' that helps us piece together the original sequence."
   ]
  },
  {
   "cell_type": "code",
   "execution_count": null,
   "id": "469b521f-fbc8-4a61-8ce0-af38f62e3f9d",
   "metadata": {},
   "outputs": [],
   "source": [
    "## Directed Graphs\n",
    "\n",
    "We use a **directed graph** to represent overlaps. In this graph:\n",
    "- Each **node** is a sequencing read.\n",
    "- A **directed edge** from node A to node B indicates that a **suffix** of A overlaps with a **prefix** of B.\n",
    "\n",
    "To be meaningful, we set a threshold on overlap length (e.g., at least 4 bases and exact match)."
   ]
  },
  {
   "cell_type": "code",
   "execution_count": null,
   "id": "b1d5ac57-d3e5-4434-8a63-349189b89a37",
   "metadata": {},
   "outputs": [],
   "source": [
    "## Constructing the Overlap Graph\n",
    "\n",
    "We can construct an overlap graph from all k-mers in a sequence.\n",
    "For example, given a synthetic genome sequence, extract all 6-mers and link those with overlapping suffixes/prefixes.\n",
    "\n",
    "This graph can help us trace a path that reconstructs the genome."
   ]
  },
  {
   "cell_type": "code",
   "execution_count": null,
   "id": "924d2cb3-d4c4-4afa-ad6b-67a0dab7a8e1",
   "metadata": {},
   "outputs": [],
   "source": [
    "# Simple code to find suffix-prefix overlaps of length >= threshold\n",
    "def overlap(a, b, min_length=4):\n",
    "    start = 0  # start all the way at the left\n",
    "    while True:\n",
    "        start = a.find(b[:min_length], start)\n",
    "        if start == -1:\n",
    "            return 0\n",
    "        if b.startswith(a[start:]):\n",
    "            return len(a) - start\n",
    "        start += 1\n",
    "\n",
    "reads = ['GTACGT', 'TACGTA', 'ACGTAC', 'CGTACG', 'GTACGA']\n",
    "edges = []\n",
    "\n",
    "for a in reads:\n",
    "    for b in reads:\n",
    "        if a != b:\n",
    "            olen = overlap(a, b, min_length=4)\n",
    "            if olen > 0:\n",
    "                edges.append((a, b, olen))\n",
    "\n",
    "edges"
   ]
  },
  {
   "cell_type": "code",
   "execution_count": null,
   "id": "5ca5d79c-def1-4cf9-ac5b-67c28053403d",
   "metadata": {},
   "outputs": [],
   "source": [
    "## Path through the Graph and Genome Reconstruction\n",
    "\n",
    "Walking through this graph (following the maximum overlap edges) reconstructs the genome by joining reads using the overlap.\n",
    "This is how we go from short reads to a longer contiguous sequence."
   ]
  },
  {
   "cell_type": "code",
   "execution_count": null,
   "id": "cf1a4700-f9ad-482f-89cb-329a93326c37",
   "metadata": {},
   "outputs": [],
   "source": [
    "# Reconstruct genome from graph by greedy path extension\n",
    "from collections import defaultdict\n",
    "\n",
    "# Build graph\n",
    "graph = defaultdict(list)\n",
    "for a, b, olen in edges:\n",
    "    graph[a].append((b, olen))\n",
    "\n",
    "# Choose starting node (one not present as a destination)\n",
    "destinations = set(b for _, b, _ in edges)\n",
    "start_node = [node for node in reads if node not in destinations][0]\n",
    "\n",
    "# Reconstruct sequence\n",
    "sequence = start_node\n",
    "current = start_node\n",
    "\n",
    "while graph[current]:\n",
    "    next_node, olen = max(graph[current], key=lambda x: x[1])\n",
    "    sequence += next_node[olen:]\n",
    "    current = next_node\n",
    "\n",
    "sequence"
   ]
  },
  {
   "cell_type": "code",
   "execution_count": null,
   "id": "9a69d85c-b895-43bc-baea-f191199f48f9",
   "metadata": {},
   "outputs": [],
   "source": [
    "\n",
    "## Practical: Implementing an Overlap Function\n",
    "\n",
    "In this practical section, we'll implement a Python function that computes the length of the longest suffix of one string (`a`) that matches a prefix of another string (`b`), where the overlap is at least a specified minimum length. This will be a core utility in genome assembly using overlap graphs.\n"
   ]
  },
  {
   "cell_type": "code",
   "execution_count": null,
   "id": "e8b03a0b-8138-4266-9af3-f22f95d8999c",
   "metadata": {},
   "outputs": [],
   "source": [
    "\n",
    "def overlap(a, b, min_length=3):\n",
    "    \"\"\"Return length of the longest suffix of 'a' matching\n",
    "    a prefix of 'b' that is at least 'min_length' characters long.\n",
    "    If no such overlap exists, return 0.\"\"\"\n",
    "    start = 0  # start all the way at the left\n",
    "    while True:\n",
    "        start = a.find(b[:min_length], start)  # look for b's prefix in a\n",
    "        if start == -1:\n",
    "            return 0  # no more occurrences to the right\n",
    "        # found occurrence; check for full suffix/prefix match\n",
    "        if b.startswith(a[start:]):\n",
    "            return len(a) - start\n",
    "        start += 1\n"
   ]
  },
  {
   "cell_type": "code",
   "execution_count": null,
   "id": "ec712a09-f2b7-4dff-b1b3-55545cd460c8",
   "metadata": {},
   "outputs": [],
   "source": [
    "\n",
    "# Test the overlap function\n",
    "print(overlap(\"CGTACG\", \"CGTACGT\", 3))  # Expected: 6\n",
    "print(overlap(\"TTACG\", \"ACGTT\", 3))     # Expected: 3\n",
    "print(overlap(\"GATTACA\", \"TACAG\", 4))   # Expected: 4\n",
    "print(overlap(\"GATTACA\", \"AGGT\", 3))    # Expected: 0\n"
   ]
  }
 ],
 "metadata": {
  "kernelspec": {
   "display_name": "\"Python/Mu (mu_venv-38-20240816-150332)\"",
   "language": "python",
   "name": "mu_venv-38-20240816-150332"
  },
  "language_info": {
   "codemirror_mode": {
    "name": "ipython",
    "version": 3
   },
   "file_extension": ".py",
   "mimetype": "text/x-python",
   "name": "python",
   "nbconvert_exporter": "python",
   "pygments_lexer": "ipython3",
   "version": "3.8.12"
  }
 },
 "nbformat": 4,
 "nbformat_minor": 5
}
