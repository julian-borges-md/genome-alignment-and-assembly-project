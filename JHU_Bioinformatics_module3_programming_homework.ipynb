{
 "cells": [
  {
   "cell_type": "markdown",
   "id": "4bf1089d",
   "metadata": {},
   "source": [
    "# Module 3: Edit Distance, Alignment & Sequence Assembly\n",
    "**Programming Homework – Genomic Data Science Specialization (Johns Hopkins)**  \n",
    "**Course:** Algorithms for DNA Sequencing  \n",
    "**Specialization:** Bioinformatics – Genomic Data Science  \n",
    "**Author:** Julian Borges (personal documentation) \n",
    "**Module:** 3 – Edit Distance, Alignment, and Overlap Graphs\n"
   ]
  },
  {
   "cell_type": "code",
   "execution_count": null,
   "id": "61473f36",
   "metadata": {},
   "outputs": [],
   "source": [
    "import numpy as np\n",
    "from collections import defaultdict\n"
   ]
  },
  {
   "cell_type": "code",
   "execution_count": null,
   "id": "e35386e4",
   "metadata": {},
   "outputs": [],
   "source": [
    "def readGenome(filename):\n",
    "    genome = ''\n",
    "    with open(filename, 'r') as f:\n",
    "        for line in f:\n",
    "            if not line.startswith('>'):\n",
    "                genome += line.strip()\n",
    "    return genome\n"
   ]
  },
  {
   "cell_type": "code",
   "execution_count": null,
   "id": "1223ed30",
   "metadata": {},
   "outputs": [],
   "source": [
    "def editDistance(x, y):\n",
    "    D = []\n",
    "    for i in range(len(x)+1):\n",
    "        D.append([0]*(len(y)+1))\n",
    "    for i in range(len(x)+1):\n",
    "        D[i][0] = i\n",
    "    for j in range(len(y)+1):\n",
    "        D[0][j] = j\n",
    "    for i in range(1, len(x)+1):\n",
    "        for j in range(1, len(y)+1):\n",
    "            distHor = D[i][j-1] + 1\n",
    "            distVer = D[i-1][j] + 1\n",
    "            if x[i-1] == y[j-1]:\n",
    "                distDiag = D[i-1][j-1]\n",
    "            else:\n",
    "                distDiag = D[i-1][j-1] + 1\n",
    "            D[i][j] = min(distHor, distVer, distDiag)\n",
    "    return D[-1][-1]\n"
   ]
  },
  {
   "cell_type": "code",
   "execution_count": null,
   "id": "eb7a3eeb",
   "metadata": {},
   "outputs": [],
   "source": [
    "def approximateMatch(p, t):\n",
    "    D = []\n",
    "    for i in range(len(p)+1):\n",
    "        D.append([0]*(len(t)+1))\n",
    "    for i in range(len(p)+1):\n",
    "        D[i][0] = i\n",
    "    for j in range(len(t)+1):\n",
    "        D[0][j] = 0\n",
    "    for i in range(1, len(p)+1):\n",
    "        for j in range(1, len(t)+1):\n",
    "            del_cost = D[i-1][j] + 1\n",
    "            ins_cost = D[i][j-1] + 1\n",
    "            sub_cost = D[i-1][j-1] + (0 if p[i-1] == t[j-1] else 1)\n",
    "            D[i][j] = min(del_cost, ins_cost, sub_cost)\n",
    "    return min(D[len(p)])\n"
   ]
  },
  {
   "cell_type": "code",
   "execution_count": null,
   "id": "28750acc",
   "metadata": {},
   "outputs": [],
   "source": [
    "def overlap(a, b, min_length=3):\n",
    "    start = 0\n",
    "    while True:\n",
    "        start = a.find(b[:min_length], start)\n",
    "        if start == -1:\n",
    "            return 0\n",
    "        if b.startswith(a[start:]):\n",
    "            return len(a) - start\n",
    "        start += 1\n"
   ]
  },
  {
   "cell_type": "code",
   "execution_count": null,
   "id": "9372ba98",
   "metadata": {},
   "outputs": [],
   "source": [
    "def readFastq(filename):\n",
    "    sequences = []\n",
    "    with open(filename) as fh:\n",
    "        while True:\n",
    "            fh.readline()  # skip name\n",
    "            seq = fh.readline().rstrip()\n",
    "            fh.readline()  # skip plus\n",
    "            fh.readline()  # skip quality\n",
    "            if len(seq) == 0:\n",
    "                break\n",
    "            sequences.append(seq)\n",
    "    return sequences\n"
   ]
  },
  {
   "cell_type": "code",
   "execution_count": null,
   "id": "0bb3ad00",
   "metadata": {},
   "outputs": [],
   "source": [
    "def build_kmer_dict(reads, k):\n",
    "    index = defaultdict(set)\n",
    "    for read in reads:\n",
    "        for i in range(len(read) - k + 1):\n",
    "            index[read[i:i+k]].add(read)\n",
    "    return index\n",
    "\n",
    "def count_overlaps(reads, k):\n",
    "    index = build_kmer_dict(reads, k)\n",
    "    overlaps = set()\n",
    "    for read in reads:\n",
    "        suffix = read[-k:]\n",
    "        for candidate in index[suffix]:\n",
    "            if read != candidate:\n",
    "                olen = overlap(read, candidate, min_length=k)\n",
    "                if olen > 0:\n",
    "                    overlaps.add((read, candidate))\n",
    "    return overlaps\n",
    "\n",
    "reads = readFastq('/mnt/data/ERR266411_1.for_asm.fastq')\n",
    "overlaps = count_overlaps(reads, 30)\n",
    "print(\"Number of edges in overlap graph:\", len(overlaps))\n"
   ]
  },
  {
   "cell_type": "code",
   "execution_count": null,
   "id": "eb28ab02",
   "metadata": {},
   "outputs": [],
   "source": [
    "outgoing = set()\n",
    "for a, b in overlaps:\n",
    "    outgoing.add(a)\n",
    "print(\"Number of nodes with at least one outgoing edge:\", len(outgoing))\n"
   ]
  }
 ],
 "metadata": {
  "kernelspec": {
   "display_name": "\"Python/Mu (mu_venv-38-20240816-150332)\"",
   "language": "python",
   "name": "mu_venv-38-20240816-150332"
  },
  "language_info": {
   "codemirror_mode": {
    "name": "ipython",
    "version": 3
   },
   "file_extension": ".py",
   "mimetype": "text/x-python",
   "name": "python",
   "nbconvert_exporter": "python",
   "pygments_lexer": "ipython3",
   "version": "3.8.12"
  }
 },
 "nbformat": 4,
 "nbformat_minor": 5
}
